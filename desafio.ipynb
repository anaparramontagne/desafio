{
 "cells": [
  {
   "cell_type": "code",
   "execution_count": 1,
   "metadata": {
    "dotnet_interactive": {
     "language": "csharp"
    },
    "polyglot_notebook": {
     "kernelName": "csharp"
    }
   },
   "outputs": [
    {
     "data": {
      "text/plain": [
       "True"
      ]
     },
     "execution_count": 1,
     "metadata": {},
     "output_type": "execute_result"
    }
   ],
   "source": [
    "import os\n",
    "from dotenv import load_dotenv\n",
    "load_dotenv()"
   ]
  },
  {
   "cell_type": "code",
   "execution_count": 2,
   "metadata": {},
   "outputs": [],
   "source": [
    "os.environ[\"OPENAI_API_KEY\"] = os.getenv(\"OPENAI_API_KEY\")"
   ]
  },
  {
   "cell_type": "code",
   "execution_count": 3,
   "metadata": {},
   "outputs": [],
   "source": [
    "from src.fragmenter import ArticleProcessor, GPTFragmenter\n",
    "from src.utils import load_jsonl, write_output_file, find_related_references\n",
    "\n",
    "#Cargar el archivo que se encuentra en la ruta especifica y extraer el tipo que se indica en el 2 parámetro\n",
    "articles = load_jsonl('data/input.jsonl', 'article')\n",
    "\n",
    "#Inicializar la API GPT\n",
    "gpt_fragmenter = GPTFragmenter(api_key=os.environ[\"OPENAI_API_KEY\"])\n",
    "processor = ArticleProcessor(gpt_fragmenter)\n",
    "\n",
    "#Procesar todos los articulos\n",
    "articles_processed = [processor.process_article(article) for article in articles]\n",
    "\n",
    "#Adicionamos procesamiento de referencias relacionadas\n",
    "articles_related = find_related_references(articles_processed)\n",
    "\n",
    "#Guarda en el archivo de salida\n",
    "write_output_file(articles_related, 'data/output.jsonl')"
   ]
  }
 ],
 "metadata": {
  "kernelspec": {
   "display_name": ".venv",
   "language": "python",
   "name": "python3"
  },
  "language_info": {
   "codemirror_mode": {
    "name": "ipython",
    "version": 3
   },
   "file_extension": ".py",
   "mimetype": "text/x-python",
   "name": "python",
   "nbconvert_exporter": "python",
   "pygments_lexer": "ipython3",
   "version": "3.12.2"
  },
  "orig_nbformat": 4,
  "polyglot_notebook": {
   "kernelInfo": {
    "defaultKernelName": "csharp",
    "items": [
     {
      "aliases": [],
      "name": "csharp"
     }
    ]
   }
  }
 },
 "nbformat": 4,
 "nbformat_minor": 2
}
